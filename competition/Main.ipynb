{
 "cells": [
  {
   "cell_type": "code",
   "execution_count": 4,
   "metadata": {},
   "outputs": [],
   "source": [
    "import yaml\n",
    "import torch\n",
    "from torch.utils.data import Dataset\n",
    "from tqdm.notebook import tqdm\n",
    "import numpy as np\n",
    "\n",
    "\n",
    "def load_config(config_path: str) -> dict:\n",
    "\n",
    "    # Open the YAML file, load its content, and return dictionary\n",
    "    with open(config_path, \"r\") as file:\n",
    "        config = yaml.safe_load(file)\n",
    "    return config\n",
    "\n",
    "\n",
    "config = load_config(\"config/competition.yaml\")"
   ]
  },
  {
   "cell_type": "markdown",
   "metadata": {},
   "source": [
    "Defining Data Loaders"
   ]
  },
  {
   "cell_type": "code",
   "execution_count": null,
   "metadata": {},
   "outputs": [],
   "source": [
    "from torch.utils.data import DataLoader\n",
    "\n",
    "\n",
    "# Create training set loader\n",
    "train_loader = DataLoader(\n",
    "    train_set,\n",
    "    batch_size=config[\"batchsize_train\"],\n",
    "    shuffle=config[\"shuffle_train\"],\n",
    "    num_workers=config[\"num_workers_train_loader\"],\n",
    ")\n",
    "\n",
    "# Create validation set loader\n",
    "val_loader = DataLoader(\n",
    "    val_set,\n",
    "    batch_size=config[\"batchsize_val\"],\n",
    "    shuffle=config[\"shuffle_val\"],\n",
    "    num_workers=config[\"num_workers_val_loader\"],\n",
    ")"
   ]
  },
  {
   "cell_type": "markdown",
   "metadata": {},
   "source": [
    "Define Loss"
   ]
  },
  {
   "cell_type": "code",
   "execution_count": null,
   "metadata": {},
   "outputs": [],
   "source": [
    "from tqdm.notebook import tqdm"
   ]
  }
 ],
 "metadata": {
  "kernelspec": {
   "display_name": "AE4353",
   "language": "python",
   "name": "python3"
  },
  "language_info": {
   "codemirror_mode": {
    "name": "ipython",
    "version": 3
   },
   "file_extension": ".py",
   "mimetype": "text/x-python",
   "name": "python",
   "nbconvert_exporter": "python",
   "pygments_lexer": "ipython3",
   "version": "3.11.9"
  }
 },
 "nbformat": 4,
 "nbformat_minor": 2
}
